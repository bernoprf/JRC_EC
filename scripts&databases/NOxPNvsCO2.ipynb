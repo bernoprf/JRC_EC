{
 "cells": [
  {
   "cell_type": "markdown",
   "metadata": {},
   "source": [
    "# Intro"
   ]
  },
  {
   "cell_type": "markdown",
   "metadata": {},
   "source": [
    "## Libraries"
   ]
  },
  {
   "cell_type": "code",
   "execution_count": 1,
   "metadata": {
    "collapsed": true
   },
   "outputs": [],
   "source": [
    "%matplotlib inline\n",
    "import pandas as pd, datetime as dt\n",
    "#from co2mpas.datasync import _get_interp_method\n",
    "import collections\n",
    "import numpy as np\n",
    "from sklearn import datasets, linear_model\n",
    "import matplotlib.pyplot as plt\n",
    "import statsmodels.formula.api as sm\n",
    "from statsmodels.sandbox.regression.predstd import wls_prediction_std\n",
    "import glob, os\n",
    "import time"
   ]
  },
  {
   "cell_type": "code",
   "execution_count": 2,
   "metadata": {
    "collapsed": true
   },
   "outputs": [],
   "source": [
    "speed_bin = 10"
   ]
  },
  {
   "cell_type": "code",
   "execution_count": 3,
   "metadata": {},
   "outputs": [
    {
     "data": {
      "text/plain": [
       "array([ 10,  20,  30,  40,  50,  60,  70,  80,  90, 100, 110, 120, 130])"
      ]
     },
     "execution_count": 3,
     "metadata": {},
     "output_type": "execute_result"
    }
   ],
   "source": [
    "# bins\n",
    "a = np.arange(10,140,speed_bin)\n",
    "a"
   ]
  },
  {
   "cell_type": "code",
   "execution_count": 4,
   "metadata": {},
   "outputs": [
    {
     "data": {
      "text/plain": [
       "array([ 40,  50,  60,  70,  80,  90, 100])"
      ]
     },
     "execution_count": 4,
     "metadata": {},
     "output_type": "execute_result"
    }
   ],
   "source": [
    "indices = [3,4,5,6,7,8,9]\n",
    "np.take(a, indices)\n"
   ]
  },
  {
   "cell_type": "code",
   "execution_count": null,
   "metadata": {
    "collapsed": true
   },
   "outputs": [],
   "source": []
  },
  {
   "cell_type": "code",
   "execution_count": null,
   "metadata": {
    "collapsed": true
   },
   "outputs": [],
   "source": []
  },
  {
   "cell_type": "code",
   "execution_count": 5,
   "metadata": {},
   "outputs": [
    {
     "data": {
      "text/plain": [
       "array([   5.,   15.,   25.,   35.,   45.,   55.,   65.,   75.,   85.,\n",
       "         95.,  105.,  115.,  125.,  135.])"
      ]
     },
     "execution_count": 5,
     "metadata": {},
     "output_type": "execute_result"
    }
   ],
   "source": [
    "# labels\n",
    "np.arange(5*speed_bin/10,140,speed_bin)"
   ]
  },
  {
   "cell_type": "code",
   "execution_count": null,
   "metadata": {
    "collapsed": true
   },
   "outputs": [],
   "source": []
  },
  {
   "cell_type": "code",
   "execution_count": null,
   "metadata": {
    "collapsed": true
   },
   "outputs": [],
   "source": []
  },
  {
   "cell_type": "code",
   "execution_count": null,
   "metadata": {
    "collapsed": true
   },
   "outputs": [],
   "source": []
  },
  {
   "cell_type": "code",
   "execution_count": null,
   "metadata": {
    "collapsed": true
   },
   "outputs": [],
   "source": []
  },
  {
   "cell_type": "code",
   "execution_count": null,
   "metadata": {
    "collapsed": true
   },
   "outputs": [],
   "source": []
  },
  {
   "cell_type": "code",
   "execution_count": null,
   "metadata": {
    "collapsed": true
   },
   "outputs": [],
   "source": []
  },
  {
   "cell_type": "code",
   "execution_count": null,
   "metadata": {
    "collapsed": true
   },
   "outputs": [],
   "source": []
  },
  {
   "cell_type": "markdown",
   "metadata": {},
   "source": [
    "## Input files"
   ]
  },
  {
   "cell_type": "code",
   "execution_count": 2,
   "metadata": {
    "collapsed": true
   },
   "outputs": [],
   "source": [
    "car = {'Audi A1': ['./Audi A1/', 'xls',98,'gasoline'],             # we could get vela2 PN data from the analysis_veh.xls DB\n",
    "      'BMW 530d': ['./BMW 530d/', 'xlsx',124,'diesel'],\n",
    "      'Audi A3': ['./Audi A3/', 'xls',120,'diesel'],               # specify the FWD for NEDC in function lab_a1 \n",
    "      'Citroen Cactus': ['./Citroen Cactus/','xls',95,'diesel'],   # specify WLTP_COLD in function lab_a1\n",
    "      'Fiat 500x': ['./Fiat 500x/','xls',144,'diesel'],\n",
    "      'Opel Astra': ['./Opel Astra/','',103,'gasoline'],           # Alternative code because of Vela8 file format (.xls for WLTP and .xlsx for NEDC)\n",
    "      'Fiat Panda': ['./Fiat Panda/', 'xlsx',119,'gasoline'],\n",
    "      'Kia Sportage': ['./Kia Sportage/','xlsx',124,'diesel'],\n",
    "      'Peugeot Partner': ['./Peugeot Partner/','xls',112,'diesel'],\n",
    "      'Porsche Cayenne': ['./Porsche Cayenne/','xlsx',179,'diesel'],\n",
    "      'Renault Twingo': ['./Renault Twingo/', 'xlsx',112,'gasoline'],\n",
    "      'VW Golf': ['./VW Golf/','xlsx',117,'diesel']\n",
    "      }"
   ]
  },
  {
   "cell_type": "code",
   "execution_count": 3,
   "metadata": {
    "collapsed": true
   },
   "outputs": [],
   "source": [
    "vehicle = 'Audi A1'"
   ]
  },
  {
   "cell_type": "code",
   "execution_count": 4,
   "metadata": {
    "collapsed": true
   },
   "outputs": [],
   "source": [
    "path = car[vehicle][0]\n",
    "filetype = car[vehicle][1]\n",
    "t_a = car[vehicle][2]\n",
    "fuel = car[vehicle][3]"
   ]
  },
  {
   "cell_type": "markdown",
   "metadata": {},
   "source": [
    "## Create the dataframe"
   ]
  },
  {
   "cell_type": "code",
   "execution_count": null,
   "metadata": {
    "collapsed": true
   },
   "outputs": [],
   "source": [
    "\"\"\"\n",
    "Only to be used the first time\n",
    "\"\"\"\n",
    "\n",
    "\"\"\"\n",
    "###############################\n",
    "Only to be used the first time!\n",
    "###############################\n",
    "\"\"\"\n",
    "\n",
    "arrays = [['fuel','T_A',\n",
    "           'NEDC','NEDC','NEDC','NEDC','NEDC',\n",
    "           'NEDC','NEDC','NEDC','NEDC','NEDC',\n",
    "           'NEDC','NEDC','NEDC','NEDC','NEDC',\n",
    "           'NEDC','NEDC','NEDC','NEDC','NEDC',\n",
    "           'NEDC','NEDC','NEDC','NEDC','NEDC',\n",
    "           'WLTP','WLTP','WLTP','WLTP','WLTP','WLTP','WLTP',\n",
    "           'WLTP','WLTP','WLTP','WLTP','WLTP','WLTP','WLTP',\n",
    "           'WLTP','WLTP','WLTP','WLTP','WLTP','WLTP','WLTP',\n",
    "           'WLTP','WLTP','WLTP','WLTP','WLTP','WLTP','WLTP',\n",
    "           'WLTP','WLTP','WLTP','WLTP','WLTP','WLTP','WLTP',\n",
    "           'RDE','RDE','RDE','RDE','RDE',\n",
    "           'RDE','RDE','RDE','RDE','RDE',\n",
    "           'RDE','RDE','RDE','RDE','RDE',\n",
    "           'RDE','RDE','RDE','RDE','RDE',\n",
    "           'RDE','RDE','RDE','RDE','RDE'],\n",
    "           ['-', '-', \n",
    "           'CO2','CO2','CO2','CO2','CO2',             # reorder columns\n",
    "           'NOx','NOx','NOx','NOx','NOx',\n",
    "           'CO','CO','CO','CO','CO',\n",
    "           'HC','HC','HC','HC','HC',\n",
    "           'PN','PN','PN','PN','PN',\n",
    "           'CO2','CO2','CO2','CO2','CO2','CO2','CO2',  \n",
    "           'NOx','NOx','NOx','NOx','NOx','NOx','NOx',\n",
    "           'CO','CO','CO','CO','CO','CO','CO',\n",
    "           'HC','HC','HC','HC','HC','HC','HC',\n",
    "           'PN','PN','PN','PN','PN','PN','PN',\n",
    "           'CO2','CO2','CO2','CO2','CO2',  \n",
    "           'NOx','NOx','NOx','NOx','NOx',\n",
    "           'CO','CO','CO','CO','CO',\n",
    "           'HC','HC','HC','HC','HC',\n",
    "           'PN','PN','PN','PN','PN'],\n",
    "           ['-', '-',\n",
    "           'complete','urban','extraurban','150/d','150',\n",
    "           'complete','urban','extraurban','150/d','150',\n",
    "           'complete','urban','extraurban','150/d','150',\n",
    "           'complete','urban','extraurban','150/d','150',\n",
    "           'complete','urban','extraurban','150/d','150',\n",
    "           'complete','low','medium','high','extrahigh','150/d','150',\n",
    "           'complete','low','medium','high','extrahigh','150/d','150',\n",
    "           'complete','low','medium','high','extrahigh','150/d','150',\n",
    "           'complete','low','medium','high','extrahigh','150/d','150',\n",
    "           'complete','low','medium','high','extrahigh','150/d','150',\n",
    "           'complete','urban','rural','motorway','150',\n",
    "           'complete','urban','rural','motorway','150',\n",
    "           'complete','urban','rural','motorway','150',\n",
    "           'complete','urban','rural','motorway','150',\n",
    "           'complete','urban','rural','motorway','150']\n",
    "         ]\n",
    "\n",
    "tuples = list(zip(*arrays))\n",
    "\n",
    "my_columns = pd.MultiIndex.from_tuples(tuples, names=['cycle', 'pollutant','phase'])\n",
    "\n",
    "my_index = []\n",
    "\n",
    "RegPollEmi = pd.DataFrame(index=my_index, columns=my_columns)\n",
    "#RegPollEmi.columns"
   ]
  }
 ],
 "metadata": {
  "hide_input": false,
  "kernelspec": {
   "display_name": "Python 3",
   "language": "python",
   "name": "python3"
  },
  "language_info": {
   "codemirror_mode": {
    "name": "ipython",
    "version": 3
   },
   "file_extension": ".py",
   "mimetype": "text/x-python",
   "name": "python",
   "nbconvert_exporter": "python",
   "pygments_lexer": "ipython3",
   "version": "3.7.4"
  },
  "toc": {
   "base_numbering": 1,
   "nav_menu": {},
   "number_sections": true,
   "sideBar": true,
   "skip_h1_title": false,
   "title_cell": "Table of Contents",
   "title_sidebar": "Contents",
   "toc_cell": false,
   "toc_position": {},
   "toc_section_display": true,
   "toc_window_display": true
  },
  "varInspector": {
   "cols": {
    "lenName": 16,
    "lenType": 16,
    "lenVar": 40
   },
   "kernels_config": {
    "python": {
     "delete_cmd_postfix": "",
     "delete_cmd_prefix": "del ",
     "library": "var_list.py",
     "varRefreshCmd": "print(var_dic_list())"
    },
    "r": {
     "delete_cmd_postfix": ") ",
     "delete_cmd_prefix": "rm(",
     "library": "var_list.r",
     "varRefreshCmd": "cat(var_dic_list()) "
    }
   },
   "types_to_exclude": [
    "module",
    "function",
    "builtin_function_or_method",
    "instance",
    "_Feature"
   ],
   "window_display": false
  }
 },
 "nbformat": 4,
 "nbformat_minor": 2
}
